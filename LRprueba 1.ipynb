{
 "cells": [
  {
   "cell_type": "code",
   "execution_count": 1,
   "id": "77c03cbc-f2a4-42b4-b7d7-9f414841a1f6",
   "metadata": {
    "tags": []
   },
   "outputs": [],
   "source": [
    "import numpy as np\n",
    "import pandas as pd \n",
    "import matplotlib.pyplot as plt\n",
    "import seaborn as sns"
   ]
  },
  {
   "cell_type": "markdown",
   "id": "5f3841d2-b871-431e-95b2-8031abf2cc6a",
   "metadata": {},
   "source": [
    "Cargamos los datasets de entremaiento y prueba"
   ]
  },
  {
   "cell_type": "code",
   "execution_count": 2,
   "id": "ca7b3f48-cc86-4b6c-9558-c3c20a053f6d",
   "metadata": {
    "tags": []
   },
   "outputs": [],
   "source": [
    "df1 = pd.read_csv(\"train.csv\")\n",
    "df2= pd.read_csv(\"test.csv\")"
   ]
  },
  {
   "cell_type": "markdown",
   "id": "bf274437-9833-45b7-bdc6-cbe0e74e9fe3",
   "metadata": {},
   "source": [
    "Primeramente exploramos el dataset de entrenamiento "
   ]
  },
  {
   "cell_type": "code",
   "execution_count": 3,
   "id": "3a08cb4a-e592-4542-9a8e-d1089dbb3e84",
   "metadata": {
    "tags": []
   },
   "outputs": [],
   "source": [
    "DF = pd.concat([df1, df2], axis=0)\n",
    "DF = DF.drop(columns=['surge_applied'])"
   ]
  },
  {
   "cell_type": "code",
   "execution_count": 4,
   "id": "adbdc0f4-f44c-4dc4-b2f8-c7abf7c5d443",
   "metadata": {
    "tags": []
   },
   "outputs": [
    {
     "data": {
      "text/html": [
       "<div>\n",
       "<style scoped>\n",
       "    .dataframe tbody tr th:only-of-type {\n",
       "        vertical-align: middle;\n",
       "    }\n",
       "\n",
       "    .dataframe tbody tr th {\n",
       "        vertical-align: top;\n",
       "    }\n",
       "\n",
       "    .dataframe thead th {\n",
       "        text-align: right;\n",
       "    }\n",
       "</style>\n",
       "<table border=\"1\" class=\"dataframe\">\n",
       "  <thead>\n",
       "    <tr style=\"text-align: right;\">\n",
       "      <th></th>\n",
       "      <th>trip_duration</th>\n",
       "      <th>distance_traveled</th>\n",
       "      <th>num_of_passengers</th>\n",
       "      <th>fare</th>\n",
       "      <th>tip</th>\n",
       "      <th>miscellaneous_fees</th>\n",
       "      <th>total_fare</th>\n",
       "    </tr>\n",
       "  </thead>\n",
       "  <tbody>\n",
       "    <tr>\n",
       "      <th>0</th>\n",
       "      <td>748.0</td>\n",
       "      <td>2.75</td>\n",
       "      <td>1.0</td>\n",
       "      <td>75.00</td>\n",
       "      <td>24</td>\n",
       "      <td>6.300</td>\n",
       "      <td>105.300</td>\n",
       "    </tr>\n",
       "    <tr>\n",
       "      <th>1</th>\n",
       "      <td>1187.0</td>\n",
       "      <td>3.43</td>\n",
       "      <td>1.0</td>\n",
       "      <td>105.00</td>\n",
       "      <td>24</td>\n",
       "      <td>13.200</td>\n",
       "      <td>142.200</td>\n",
       "    </tr>\n",
       "    <tr>\n",
       "      <th>2</th>\n",
       "      <td>730.0</td>\n",
       "      <td>3.12</td>\n",
       "      <td>1.0</td>\n",
       "      <td>71.25</td>\n",
       "      <td>0</td>\n",
       "      <td>26.625</td>\n",
       "      <td>97.875</td>\n",
       "    </tr>\n",
       "    <tr>\n",
       "      <th>3</th>\n",
       "      <td>671.0</td>\n",
       "      <td>5.63</td>\n",
       "      <td>3.0</td>\n",
       "      <td>90.00</td>\n",
       "      <td>0</td>\n",
       "      <td>9.750</td>\n",
       "      <td>99.750</td>\n",
       "    </tr>\n",
       "    <tr>\n",
       "      <th>4</th>\n",
       "      <td>329.0</td>\n",
       "      <td>2.09</td>\n",
       "      <td>1.0</td>\n",
       "      <td>45.00</td>\n",
       "      <td>12</td>\n",
       "      <td>13.200</td>\n",
       "      <td>70.200</td>\n",
       "    </tr>\n",
       "  </tbody>\n",
       "</table>\n",
       "</div>"
      ],
      "text/plain": [
       "   trip_duration  distance_traveled  num_of_passengers    fare  tip  \\\n",
       "0          748.0               2.75                1.0   75.00   24   \n",
       "1         1187.0               3.43                1.0  105.00   24   \n",
       "2          730.0               3.12                1.0   71.25    0   \n",
       "3          671.0               5.63                3.0   90.00    0   \n",
       "4          329.0               2.09                1.0   45.00   12   \n",
       "\n",
       "   miscellaneous_fees  total_fare  \n",
       "0               6.300     105.300  \n",
       "1              13.200     142.200  \n",
       "2              26.625      97.875  \n",
       "3               9.750      99.750  \n",
       "4              13.200      70.200  "
      ]
     },
     "execution_count": 4,
     "metadata": {},
     "output_type": "execute_result"
    }
   ],
   "source": [
    "DF.head()"
   ]
  },
  {
   "cell_type": "code",
   "execution_count": 5,
   "id": "a0ffac38-bd61-42f6-9598-d6ae493e4c40",
   "metadata": {
    "tags": []
   },
   "outputs": [
    {
     "name": "stdout",
     "output_type": "stream",
     "text": [
      "<class 'pandas.core.frame.DataFrame'>\n",
      "Index: 299534 entries, 0 to 89860\n",
      "Data columns (total 7 columns):\n",
      " #   Column              Non-Null Count   Dtype  \n",
      "---  ------              --------------   -----  \n",
      " 0   trip_duration       299534 non-null  float64\n",
      " 1   distance_traveled   299534 non-null  float64\n",
      " 2   num_of_passengers   299534 non-null  float64\n",
      " 3   fare                299534 non-null  float64\n",
      " 4   tip                 299534 non-null  int64  \n",
      " 5   miscellaneous_fees  299534 non-null  float64\n",
      " 6   total_fare          299534 non-null  float64\n",
      "dtypes: float64(6), int64(1)\n",
      "memory usage: 18.3 MB\n"
     ]
    }
   ],
   "source": [
    "DF.info()"
   ]
  },
  {
   "cell_type": "code",
   "execution_count": 6,
   "id": "392b8769-b33a-4320-9b8c-cc718b685031",
   "metadata": {
    "tags": []
   },
   "outputs": [
    {
     "data": {
      "text/html": [
       "<div>\n",
       "<style scoped>\n",
       "    .dataframe tbody tr th:only-of-type {\n",
       "        vertical-align: middle;\n",
       "    }\n",
       "\n",
       "    .dataframe tbody tr th {\n",
       "        vertical-align: top;\n",
       "    }\n",
       "\n",
       "    .dataframe thead th {\n",
       "        text-align: right;\n",
       "    }\n",
       "</style>\n",
       "<table border=\"1\" class=\"dataframe\">\n",
       "  <thead>\n",
       "    <tr style=\"text-align: right;\">\n",
       "      <th></th>\n",
       "      <th>trip_duration</th>\n",
       "      <th>distance_traveled</th>\n",
       "      <th>num_of_passengers</th>\n",
       "      <th>fare</th>\n",
       "      <th>tip</th>\n",
       "      <th>miscellaneous_fees</th>\n",
       "      <th>total_fare</th>\n",
       "    </tr>\n",
       "  </thead>\n",
       "  <tbody>\n",
       "    <tr>\n",
       "      <th>count</th>\n",
       "      <td>299534.000000</td>\n",
       "      <td>299534.000000</td>\n",
       "      <td>299534.000000</td>\n",
       "      <td>299534.000000</td>\n",
       "      <td>299534.000000</td>\n",
       "      <td>299534.000000</td>\n",
       "      <td>299534.000000</td>\n",
       "    </tr>\n",
       "    <tr>\n",
       "      <th>mean</th>\n",
       "      <td>1165.680417</td>\n",
       "      <td>5.717167</td>\n",
       "      <td>1.290985</td>\n",
       "      <td>69.736136</td>\n",
       "      <td>13.030891</td>\n",
       "      <td>15.152971</td>\n",
       "      <td>89.453417</td>\n",
       "    </tr>\n",
       "    <tr>\n",
       "      <th>std</th>\n",
       "      <td>4727.006306</td>\n",
       "      <td>321.516385</td>\n",
       "      <td>0.927814</td>\n",
       "      <td>84.933388</td>\n",
       "      <td>19.880049</td>\n",
       "      <td>12.590909</td>\n",
       "      <td>101.301805</td>\n",
       "    </tr>\n",
       "    <tr>\n",
       "      <th>min</th>\n",
       "      <td>0.000000</td>\n",
       "      <td>0.020000</td>\n",
       "      <td>0.000000</td>\n",
       "      <td>0.000000</td>\n",
       "      <td>0.000000</td>\n",
       "      <td>-0.500000</td>\n",
       "      <td>0.000000</td>\n",
       "    </tr>\n",
       "    <tr>\n",
       "      <th>25%</th>\n",
       "      <td>446.000000</td>\n",
       "      <td>1.950000</td>\n",
       "      <td>1.000000</td>\n",
       "      <td>0.000000</td>\n",
       "      <td>0.000000</td>\n",
       "      <td>6.000000</td>\n",
       "      <td>0.000000</td>\n",
       "    </tr>\n",
       "    <tr>\n",
       "      <th>50%</th>\n",
       "      <td>706.000000</td>\n",
       "      <td>3.200000</td>\n",
       "      <td>1.000000</td>\n",
       "      <td>56.250000</td>\n",
       "      <td>9.000000</td>\n",
       "      <td>9.750000</td>\n",
       "      <td>74.700000</td>\n",
       "    </tr>\n",
       "    <tr>\n",
       "      <th>75%</th>\n",
       "      <td>1097.000000</td>\n",
       "      <td>5.730000</td>\n",
       "      <td>1.000000</td>\n",
       "      <td>93.750000</td>\n",
       "      <td>20.000000</td>\n",
       "      <td>26.450000</td>\n",
       "      <td>126.000000</td>\n",
       "    </tr>\n",
       "    <tr>\n",
       "      <th>max</th>\n",
       "      <td>86395.000000</td>\n",
       "      <td>145517.600000</td>\n",
       "      <td>9.000000</td>\n",
       "      <td>4466.250000</td>\n",
       "      <td>2500.000000</td>\n",
       "      <td>435.000000</td>\n",
       "      <td>4472.250000</td>\n",
       "    </tr>\n",
       "  </tbody>\n",
       "</table>\n",
       "</div>"
      ],
      "text/plain": [
       "       trip_duration  distance_traveled  num_of_passengers           fare  \\\n",
       "count  299534.000000      299534.000000      299534.000000  299534.000000   \n",
       "mean     1165.680417           5.717167           1.290985      69.736136   \n",
       "std      4727.006306         321.516385           0.927814      84.933388   \n",
       "min         0.000000           0.020000           0.000000       0.000000   \n",
       "25%       446.000000           1.950000           1.000000       0.000000   \n",
       "50%       706.000000           3.200000           1.000000      56.250000   \n",
       "75%      1097.000000           5.730000           1.000000      93.750000   \n",
       "max     86395.000000      145517.600000           9.000000    4466.250000   \n",
       "\n",
       "                 tip  miscellaneous_fees     total_fare  \n",
       "count  299534.000000       299534.000000  299534.000000  \n",
       "mean       13.030891           15.152971      89.453417  \n",
       "std        19.880049           12.590909     101.301805  \n",
       "min         0.000000           -0.500000       0.000000  \n",
       "25%         0.000000            6.000000       0.000000  \n",
       "50%         9.000000            9.750000      74.700000  \n",
       "75%        20.000000           26.450000     126.000000  \n",
       "max      2500.000000          435.000000    4472.250000  "
      ]
     },
     "execution_count": 6,
     "metadata": {},
     "output_type": "execute_result"
    }
   ],
   "source": [
    "DF.describe()\n"
   ]
  },
  {
   "cell_type": "markdown",
   "id": "31822679-8c99-4390-a4c6-b284e86fc984",
   "metadata": {},
   "source": [
    "Podemos observar que los datos son en general numericos. \n",
    "El proposito de este dataset es determinar la tarifa de un viaje dado, para ello entrenaremos el modelo\n",
    "con las variables: duracion del viaje, distancia, numero de pasajeros, propina, otros gastos y una variable llamada sobretension. \n",
    "Dadas las caracteristicas de la asignacion, debemos tomar solo valores continuos por lo que surge_applied sera removida del analisis. Total fare es la cantidad que debemos predecir por lo que nos servira para entrenar neustro modelo. "
   ]
  },
  {
   "cell_type": "markdown",
   "id": "2ff58fd4-fbe6-44d9-881b-6efc6575e746",
   "metadata": {},
   "source": [
    "Ahora podemos generar el modelo. "
   ]
  },
  {
   "cell_type": "code",
   "execution_count": 7,
   "id": "d19e7998-9a3c-49a0-bc97-11f8a1460935",
   "metadata": {
    "tags": []
   },
   "outputs": [],
   "source": [
    "from sklearn.linear_model import LinearRegression\n",
    "from sklearn.model_selection import train_test_split"
   ]
  },
  {
   "cell_type": "code",
   "execution_count": 8,
   "id": "c2379ed0-7ef8-4464-81b0-7ce5f18e9d1f",
   "metadata": {
    "tags": []
   },
   "outputs": [],
   "source": [
    "# Seleccionar las variables independientes y dependiente y tomar las primeras 100000 muestras\n",
    "X = np.array(DF[['trip_duration', 'distance_traveled', 'num_of_passengers', 'fare', 'tip', 'miscellaneous_fees']][:100000])\n",
    "y = np.array(DF['total_fare'][:100000])\n",
    "\n",
    "# Reajustar la forma de 'X' para que tenga 5000 filas y n columnas\n",
    "X = X.reshape(100000, 6)\n",
    "\n",
    "# Ahora 'X' tiene la forma (100000, n), donde n es el número de variables independientes.\n",
    "\n",
    "# Continuar con la división en conjuntos de entrenamiento y prueba\n",
    "\n",
    "X_train, X_test, y_train, y_test = train_test_split(X, y, test_size=0.8, random_state=42)#Independientemente del \n",
    "#valor de test_size que se eligio, el modelo resulto perfecto para describir la variable. \n",
    "\n",
    "# Crear el modelo de regresión múltiple\n",
    "\n",
    "model = LinearRegression()\n",
    "\n",
    "# Entrenar el modelo\n",
    "model.fit(X_train, y_train)\n",
    "\n",
    "# Obtener los coeficientes y el intercepto\n",
    "coeficientes = model.coef_\n",
    "intercepto = model.intercept_\n",
    "\n",
    "# Para hacer predicciones\n",
    "predicciones = model.predict(X_test)"
   ]
  },
  {
   "cell_type": "code",
   "execution_count": 12,
   "id": "2ea27e65-ed15-45b1-997f-9401bcbce30d",
   "metadata": {
    "tags": []
   },
   "outputs": [
    {
     "name": "stdout",
     "output_type": "stream",
     "text": [
      "MSE: 1.502682427137271e-24\n",
      "R^2: 1.0\n"
     ]
    }
   ],
   "source": [
    "from sklearn.metrics import mean_squared_error, r2_score\n",
    "\n",
    "mse = mean_squared_error(y_test, predicciones) #Valor de error cuadratico medio\n",
    "r2 = r2_score(y_test, predicciones)\n",
    "\n",
    "print(f'MSE: {mse}')\n",
    "print(f'R^2: {r2}')"
   ]
  },
  {
   "cell_type": "code",
   "execution_count": 21,
   "id": "d0d692f1-c577-44ff-a26b-5562ba2c424b",
   "metadata": {
    "tags": []
   },
   "outputs": [
    {
     "data": {
      "image/png": "[encoded data removed]",
      "text/plain": [
       "<Figure size 640x480 with 1 Axes>"
      ]
     },
     "metadata": {},
     "output_type": "display_data"
    }
   ],
   "source": [
    "# Crear una lista de valores de métricas\n",
    "metric_values = [mse, r2]\n",
    "metric_names = ['MSE', 'R^2']\n",
    "# Crear un gráfico de barras para visualizar las métricas\n",
    "fig, ax = plt.subplots()\n",
    "for i, metric_value in enumerate(metric_values):\n",
    "    ax.bar(metric_names[i], metric_value, label=metric_names[i])\n",
    "\n",
    "# Añadir etiquetas y leyenda\n",
    "ax.set_ylabel('Valor de la Métrica')\n",
    "ax.set_title('Métricas del Modelo de Regresión')\n",
    "ax.legend()\n",
    "\n",
    "# Mostrar el gráfico\n",
    "plt.show()"
   ]
  },
  {
   "cell_type": "markdown",
   "id": "efcdaf20-6d0f-416c-97b6-8614ac80e701",
   "metadata": {},
   "source": [
    "El MSE es muy cercano a 0 lo que indica que  las predicciones del modelo están prácticamente en el punto exacto."
   ]
  },
  {
   "cell_type": "code",
   "execution_count": 18,
   "id": "1867635e-1539-4f50-81bd-5f6c7c0ac163",
   "metadata": {
    "tags": []
   },
   "outputs": [
    {
     "data": {
      "image/png": "[encoded data removed]",
      "text/plain": [
       "<Figure size 640x480 with 1 Axes>"
      ]
     },
     "metadata": {},
     "output_type": "display_data"
    }
   ],
   "source": [
    "plt.scatter(y_test, predicciones)\n",
    "plt.xlabel('Valores reales')\n",
    "plt.ylabel('Predicciones')\n",
    "plt.show()"
   ]
  },
  {
   "cell_type": "markdown",
   "id": "2be0a1bb-06c0-4e1e-84bf-cd5d25c787c5",
   "metadata": {},
   "source": [
    "Obervamos que el plot muestra que que los datos fueron predichos de una maner amuy exacta."
   ]
  },
  {
   "cell_type": "code",
   "execution_count": 14,
   "id": "31f97bf5-24ae-4e9a-81e6-15df9157e143",
   "metadata": {
    "tags": []
   },
   "outputs": [
    {
     "name": "stdout",
     "output_type": "stream",
     "text": [
      "Coeficientes: [ 3.74368453e-17 -1.99840144e-14 -4.76745379e-15  1.00000000e+00\n",
      "  1.00000000e+00  1.00000000e+00]\n",
      "Intercepto: -1.1937117960769683e-12\n"
     ]
    }
   ],
   "source": [
    "print(f'Coeficientes: {coeficientes}')\n",
    "print(f'Intercepto: {intercepto}')"
   ]
  },
  {
   "cell_type": "code",
   "execution_count": 15,
   "id": "a4d000ad-3695-42f2-bbef-4a140114b47a",
   "metadata": {
    "tags": []
   },
   "outputs": [
    {
     "name": "stdout",
     "output_type": "stream",
     "text": [
      "Scores de Validación Cruzada: [2.23398722e-23 2.22384011e-23 2.22829600e-23 2.31552531e-23\n",
      " 2.28038097e-23]\n",
      "Promedio del Score: 2.2564059224860189e-23\n"
     ]
    }
   ],
   "source": [
    "from sklearn.model_selection import cross_val_score\n",
    "\n",
    "# Realizar validación cruzada\n",
    "cv_scores = cross_val_score(model, X, y, cv=5, scoring='neg_mean_squared_error')\n",
    "\n",
    "# Convertir los scores negativos a positivos\n",
    "cv_scores = -cv_scores\n",
    "\n",
    "# Imprimir los scores de validación cruzada\n",
    "print(f'Scores de Validación Cruzada: {cv_scores}')\n",
    "print(f'Promedio del Score: {cv_scores.mean()}')"
   ]
  },
  {
   "cell_type": "code",
   "execution_count": 39,
   "id": "d46b5877-f3dd-4a39-895f-6d81bc3124d4",
   "metadata": {
    "tags": []
   },
   "outputs": [
    {
     "data": {
      "image/png": "[encoded data removed]",
      "text/plain": [
       "<Figure size 640x480 with 1 Axes>"
      ]
     },
     "metadata": {},
     "output_type": "display_data"
    }
   ],
   "source": [
    "\n",
    "# Crear una lista de nombres para los pliegues\n",
    "nombres_pliegues = [f'Pliegue {i+1}' for i in range(len(cv_scores))]\n",
    "\n",
    "# Agregar el promedio a la lista de nombres\n",
    "nombres_pliegues.append('Promedio')\n",
    "\n",
    "# Crear una lista de valores para los puntajes\n",
    "valores_puntajes = list(cv_scores) + [cv_scores.mean()]\n",
    "\n",
    "\n",
    "# Crear un gráfico de barras para visualizar los puntajes\n",
    "fig, ax = plt.subplots(facecolor='darkslategrey')  # Cambia el color de fondo aquí\n",
    "\n",
    "# Agregar el gráfico de barras\n",
    "ax.bar(nombres_pliegues, valores_puntajes, color='black')  # Cambia el color de las barras aquí\n",
    "\n",
    "# Añadir etiquetas\n",
    "plt.xlabel('Pliegue')\n",
    "plt.ylabel('Puntaje')\n",
    "plt.title('Puntajes de Validación Cruzada')\n",
    "\n",
    "\n",
    "# Cambiar el color del texto y las líneas del gráfico\n",
    "ax.spines['bottom'].set_color('black')\n",
    "ax.spines['top'].set_color('black')\n",
    "ax.spines['left'].set_color('black')\n",
    "ax.spines['right'].set_color('black')\n",
    "ax.tick_params(axis='x', colors='black')\n",
    "ax.tick_params(axis='y', colors='white')\n",
    "\n",
    "# Mostrar el gráfico\n",
    "plt.show()\n"
   ]
  },
  {
   "cell_type": "markdown",
   "id": "9baf2fec-9306-44dd-9356-82fccaabed55",
   "metadata": {
    "tags": []
   },
   "source": [
    "# Conclusion\n",
    "En conclusión las metricas indican que el modelo es eficiente en un 100%. Esto es irreal dado que en la practica ningun modelo deberia pdoer alcanzar este nivel de ajuste y esto mismo indica que el modelo podria estar sobreajustado. Por esto mismo se probo rehacerlo con un numero de variables de entrenamiento muy pqueño lo cual no cambio de manera significativa los resultados.\n",
    "Es probable que los datos ya esten ajustados de cierta forma o que la variable retirada fuera un descriptor de importancia para otro tipo de modelos. Otra posible causa es la cantidad enorme de datos que se tienen a disposicion los cuales podrian estar cubriendo casi todos los puntos en donde el modelo podria tener que realizar una prediccion. "
   ]
  }
 ],
 "metadata": {
  "kernelspec": {
   "display_name": "Python 3 (ipykernel)",
   "language": "python",
   "name": "python3"
  },
  "language_info": {
   "codemirror_mode": {
    "name": "ipython",
    "version": 3
   },
   "file_extension": ".py",
   "mimetype": "text/x-python",
   "name": "python",
   "nbconvert_exporter": "python",
   "pygments_lexer": "ipython3",
   "version": "3.11.5"
  }
 },
 "nbformat": 4,
 "nbformat_minor": 5
}
