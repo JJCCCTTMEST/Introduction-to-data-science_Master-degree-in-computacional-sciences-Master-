{
 "cells": [
  {
   "cell_type": "code",
   "execution_count": null,
   "id": "e783838b-a957-41e3-af84-c7ca9b8f8caa",
   "metadata": {},
   "outputs": [],
   "source": [
    "####################### Para saber cuantos .tar hay en total#######################\n",
    "def contar_archivos_en_carpeta(ruta_carpeta):\n",
    "    # Obtener la lista de archivos en la carpeta\n",
    "    lista_archivos = os.listdir(ruta_carpeta)\n",
    "    # Filtrar solo los archivos (no directorios)\n",
    "    lista_archivos = [archivo for archivo in lista_archivos if os.path.isfile(os.path.join(ruta_carpeta, archivo))]\n",
    "    return lista_archivos\n",
    "\n",
    "# Ruta de la carpeta \"Secuencias_neg\"\n",
    "ruta_carpeta = 'Secuencias_pos'\n",
    "\n",
    "# Obtener la lista de archivos\n",
    "archivos = contar_archivos_en_carpeta(ruta_carpeta)\n",
    "\n",
    "# Guardar los nombres de los archivos en un archivo CSV\n",
    "ruta_csv = 'nombres_archivos_Pos.csv'\n",
    "with open(ruta_csv, mode='w', newline='') as archivo_csv:\n",
    "    escritor_csv = csv.writer(archivo_csv)\n",
    "    escritor_csv.writerow(['Nombre de Archivo'])  # Escribir encabezado\n",
    "    for archivo in archivos:\n",
    "        escritor_csv.writerow([archivo])\n",
    "\n",
    "print(f'Se han guardado los nombres de los archivos en \"{ruta_csv}\".')"
   ]
  }
 ],
 "metadata": {
  "kernelspec": {
   "display_name": "Python 3 (ipykernel)",
   "language": "python",
   "name": "python3"
  },
  "language_info": {
   "codemirror_mode": {
    "name": "ipython",
    "version": 3
   },
   "file_extension": ".py",
   "mimetype": "text/x-python",
   "name": "python",
   "nbconvert_exporter": "python",
   "pygments_lexer": "ipython3",
   "version": "3.11.5"
  }
 },
 "nbformat": 4,
 "nbformat_minor": 5
}
