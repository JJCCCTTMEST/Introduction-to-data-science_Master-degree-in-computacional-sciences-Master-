{
 "cells": [
  {
   "cell_type": "code",
   "execution_count": 2,
   "id": "956a9aba-55db-41ff-8f6d-b65ab6cae5d4",
   "metadata": {
    "tags": []
   },
   "outputs": [],
   "source": [
    "import tarfile\n",
    "import os\n",
    "import csv\n",
    "import matplotlib.pyplot as plt\n",
    "import numpy as np\n",
    "import pandas as pd\n",
    "import seaborn as sns"
   ]
  },
  {
   "cell_type": "code",
   "execution_count": 3,
   "id": "61c74da4-8c68-4a7a-8e47-3a67eeead7fd",
   "metadata": {
    "tags": []
   },
   "outputs": [
    {
     "name": "stdout",
     "output_type": "stream",
     "text": [
      "C:\\Users\\ADMIN\n"
     ]
    }
   ],
   "source": [
    "os.chdir('C:/Users/ADMIN')\n",
    "print(os.getcwd())\n",
    "#Feature_normalization_training_negatives.csv\n",
    "#Feature_normalization_training_positives.csv"
   ]
  },
  {
   "cell_type": "code",
   "execution_count": 6,
   "id": "2fec3526-37d7-4cac-a77e-9134e506d22a",
   "metadata": {},
   "outputs": [
    {
     "name": "stdout",
     "output_type": "stream",
     "text": [
      "      0.0  0.4987145564308053  -0.41938840009973094  -0.8616127713595044  \\\n",
      "0     NaN                 NaN                   NaN                  NaN   \n",
      "1     0.0           -0.499290             -0.419388            -0.087490   \n",
      "2     0.0            1.439690              1.432576            -0.861613   \n",
      "3     NaN                 NaN                   NaN                  NaN   \n",
      "4     NaN                 NaN                   NaN                  NaN   \n",
      "...   ...                 ...                   ...                  ...   \n",
      "1409  0.0            1.021479             -0.419388            -0.861613   \n",
      "1410  NaN                 NaN                   NaN                  NaN   \n",
      "1411  NaN                 NaN                   NaN                  NaN   \n",
      "1412  0.0            0.070998             -0.419388            -0.861613   \n",
      "1413  NaN                 NaN                   NaN                  NaN   \n",
      "\n",
      "      -0.10294549007981506  -0.7277685886134523  -0.1108369668157373  \\\n",
      "0                      NaN                  NaN                  NaN   \n",
      "1                -0.337273             1.871753            -0.346157   \n",
      "2                -0.962147            -0.727769            -0.053314   \n",
      "3                      NaN                  NaN                  NaN   \n",
      "4                      NaN                  NaN                  NaN   \n",
      "...                    ...                  ...                  ...   \n",
      "1409              0.183455             0.860828             1.327229   \n",
      "1410                   NaN                  NaN                  NaN   \n",
      "1411                   NaN                  NaN                  NaN   \n",
      "1412             -0.962147            -0.727769             2.791442   \n",
      "1413                   NaN                  NaN                  NaN   \n",
      "\n",
      "      -0.5749751544757395  2.9491802118176595  -0.8969121636408923  ...  \\\n",
      "0                     NaN                 NaN                  NaN  ...   \n",
      "1                0.631171            0.494275            -0.896912  ...   \n",
      "2               -0.574975           -0.908528            -0.896912  ...   \n",
      "3                     NaN                 NaN                  NaN  ...   \n",
      "4                     NaN                 NaN                  NaN  ...   \n",
      "...                   ...                 ...                  ...  ...   \n",
      "1409            -0.574975            0.377375            -0.896912  ...   \n",
      "1410                  NaN                 NaN                  NaN  ...   \n",
      "1411                  NaN                 NaN                  NaN  ...   \n",
      "1412            -0.574975            0.494275             0.538166  ...   \n",
      "1413                  NaN                 NaN                  NaN  ...   \n",
      "\n",
      "      -0.5324985059137963  -0.5594812099705584  -0.5611341954753339  \\\n",
      "0               -0.532499             0.317155             0.794143   \n",
      "1                     NaN                  NaN                  NaN   \n",
      "2                     NaN                  NaN                  NaN   \n",
      "3               -0.532499             2.070426             1.471782   \n",
      "4               -0.532499            -0.559481            -0.561134   \n",
      "...                   ...                  ...                  ...   \n",
      "1409                  NaN                  NaN                  NaN   \n",
      "1410            -0.532499             0.824680             1.043800   \n",
      "1411            -0.532499            -0.559481            -0.561134   \n",
      "1412                  NaN                  NaN                  NaN   \n",
      "1413             1.896863            -0.559481            -0.561134   \n",
      "\n",
      "      0.45357230307500795  0.143547874177762  0.1652864856377365  \\\n",
      "0               -0.634684          -0.834546           -0.711357   \n",
      "1                     NaN                NaN                 NaN   \n",
      "2                     NaN                NaN                 NaN   \n",
      "3               -0.634684           2.099736           -0.711357   \n",
      "4                0.816324           0.143548            0.457501   \n",
      "...                   ...                ...                 ...   \n",
      "1409                  NaN                NaN                 NaN   \n",
      "1410            -0.634684          -0.734617           -0.711357   \n",
      "1411            -0.634684           0.028478           -0.711357   \n",
      "1412                  NaN                NaN                 NaN   \n",
      "1413            -0.634684           0.028478           -0.711357   \n",
      "\n",
      "      -0.5306124402995868  -0.507159822275529  -0.5944598633233108  \\\n",
      "0                3.069765           -0.507160            -0.594460   \n",
      "1                     NaN                 NaN                  NaN   \n",
      "2                     NaN                 NaN                  NaN   \n",
      "3               -0.530612           -0.507160            -0.594460   \n",
      "4                0.040876            0.188125            -0.026704   \n",
      "...                   ...                 ...                  ...   \n",
      "1409                  NaN                 NaN                  NaN   \n",
      "1410             2.717848           -0.507160            -0.594460   \n",
      "1411            -0.530612           -0.507160             0.938482   \n",
      "1412                  NaN                 NaN                  NaN   \n",
      "1413            -0.530612           -0.507160            -0.594460   \n",
      "\n",
      "      -0.48319070788262114  \n",
      "0                -0.483191  \n",
      "1                      NaN  \n",
      "2                      NaN  \n",
      "3                -0.483191  \n",
      "4                -0.483191  \n",
      "...                    ...  \n",
      "1409                   NaN  \n",
      "1410             -0.483191  \n",
      "1411             -0.483191  \n",
      "1412                   NaN  \n",
      "1413              1.835663  \n",
      "\n",
      "[1414 rows x 42 columns]\n"
     ]
    }
   ],
   "source": [
    "##################NO FUNCIONA BIEN########################################\n",
    "df1 = pd.read_csv('SecuenciasConcatenadas_negativoscsv.csv')\n",
    "df2 = pd.read_csv('SecuenciasConcatenadas_positivos.csv')\n",
    "\n",
    "# Asegurarse de que ambos DataFrames tengan el mismo número de columnas\n",
    "num_columnas_max = max(len(df1.columns), len(df2.columns))\n",
    "df1 = df1.reindex(columns=df1.columns.tolist() + [f'Col_{i}' for i in range(len(df2.columns), num_columnas_max)])\n",
    "df2 = df2.reindex(columns=df2.columns.tolist() + [f'Col_{i}' for i in range(len(df1.columns), num_columnas_max)])\n",
    "\n",
    "# Combinar los DataFrames\n",
    "Dataset_completo = pd.concat([df1, df2], ignore_index=True)\n",
    "\n",
    "# Reordenar las filas aleatoriamente\n",
    "Dataset_completo = Dataset_completo.sample(frac=1).reset_index(drop=True)\n",
    "\n",
    "print(Dataset_completo)\n",
    "Dataset_completo.to_csv('dt.csv', index=False)"
   ]
  },
  {
   "cell_type": "code",
   "execution_count": null,
   "id": "5967afe5-b144-4a97-9df2-4940695ccf68",
   "metadata": {},
   "outputs": [],
   "source": []
  }
 ],
 "metadata": {
  "kernelspec": {
   "display_name": "Python 3 (ipykernel)",
   "language": "python",
   "name": "python3"
  },
  "language_info": {
   "codemirror_mode": {
    "name": "ipython",
    "version": 3
   },
   "file_extension": ".py",
   "mimetype": "text/x-python",
   "name": "python",
   "nbconvert_exporter": "python",
   "pygments_lexer": "ipython3",
   "version": "3.11.5"
  }
 },
 "nbformat": 4,
 "nbformat_minor": 5
}
