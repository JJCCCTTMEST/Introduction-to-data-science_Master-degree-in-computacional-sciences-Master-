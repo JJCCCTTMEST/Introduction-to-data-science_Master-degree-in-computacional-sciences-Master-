{
 "cells": [
  {
   "cell_type": "code",
   "execution_count": 2,
   "id": "d622e469-ea27-40c5-a531-66c44a2a9608",
   "metadata": {
    "tags": []
   },
   "outputs": [],
   "source": [
    "import tarfile\n",
    "import os\n",
    "import csv\n",
    "import matplotlib.pyplot as plt\n",
    "import numpy as np\n",
    "import pandas as pd\n",
    "import seaborn as sns"
   ]
  },
  {
   "cell_type": "code",
   "execution_count": 30,
   "id": "8999a2c8-e228-4ae5-8e96-72e232dc1ea0",
   "metadata": {
    "tags": []
   },
   "outputs": [
    {
     "name": "stdout",
     "output_type": "stream",
     "text": [
      "C:\\Users\\ADMIN\n"
     ]
    }
   ],
   "source": [
    "os.chdir('C:/Users/ADMIN')\n",
    "print(os.getcwd())"
   ]
  },
  {
   "cell_type": "code",
   "execution_count": 34,
   "id": "c6e38ad5-2c97-4f1f-872a-4fe176568ea3",
   "metadata": {},
   "outputs": [
    {
     "name": "stdout",
     "output_type": "stream",
     "text": [
      "     label         0         1         2         3         4         5  \\\n",
      "0        0  0.826575  0.864321 -0.993804 -1.009914  0.832504  0.804524   \n",
      "1        0 -0.964529  0.583679 -0.993804 -1.009914 -0.984067 -0.940195   \n",
      "2        0 -0.964529 -0.959852 -0.993804 -1.009914 -0.984067  0.804524   \n",
      "3        0  2.975901 -0.959852 -0.993804 -1.009914  1.014161  0.978996   \n",
      "4        0  2.617680  2.688494 -0.993804  0.677535 -0.984067  0.804524   \n",
      "..     ...       ...       ...       ...       ...       ...       ...   \n",
      "456      0 -0.160360  0.268673 -0.592453  0.884162 -0.984067  0.234820   \n",
      "457      0 -0.964529  0.678181  1.012951 -0.631099  1.054941 -0.940195   \n",
      "458      0  0.551021  2.127210 -0.615608 -0.295993 -0.984067  0.167031   \n",
      "459      0  0.794591  0.831747 -0.291440 -0.346988  1.870544 -0.597482   \n",
      "460      0 -0.285145  0.078040 -0.315659 -0.049814  0.049499 -0.609300   \n",
      "\n",
      "            6         7         8  ...      5496      5497      5498  \\\n",
      "0    0.949019 -0.923957  0.728448  ... -0.863400 -0.802694 -1.766568   \n",
      "1   -0.943670  0.467986 -0.949787  ... -0.863400 -0.802694 -1.046406   \n",
      "2    0.949019  0.721066  0.728448  ...  3.880115  3.436966 -1.183048   \n",
      "3   -0.943670 -0.923957 -0.949787  ... -0.863400  1.789291 -2.743432   \n",
      "4   -0.943670 -0.923957 -0.949787  ... -0.863400 -0.802694 -1.909123   \n",
      "..        ...       ...       ...  ...       ...       ...       ...   \n",
      "456 -0.093891  1.661079  0.180453  ... -0.544138 -0.517344  1.547398   \n",
      "457  0.330998 -0.554666 -0.196294  ... -0.031185  0.189062  2.008373   \n",
      "458 -0.943670 -0.923957  0.115247  ... -0.423324 -0.212697  1.822532   \n",
      "459 -0.200114  0.045432 -0.620134  ... -0.088943  0.120231  1.584284   \n",
      "460 -0.584712  0.947966  0.005071  ...  0.208360  0.155223  2.610430   \n",
      "\n",
      "         5499      5500      5501      5502      5503      5504      5505  \n",
      "0   -1.674716  1.333345 -1.334592 -1.450391 -1.380242 -0.942731 -1.619239  \n",
      "1   -1.222725  1.254692 -1.255320 -0.627072 -0.928467 -0.564418 -1.331143  \n",
      "2   -1.476809 -0.012549  0.011228 -0.274544 -0.855271 -1.326681 -1.201538  \n",
      "3   -2.429078 -0.477384  0.475525 -3.061241 -2.724621 -1.668048 -1.271122  \n",
      "4   -1.665142  1.406122 -1.406460 -1.706931 -1.387022  0.927875 -0.270950  \n",
      "..        ...       ...       ...       ...       ...       ...       ...  \n",
      "456  2.295029 -0.500991  0.501642 -0.569231  0.030173 -0.198651  0.096367  \n",
      "457  2.384031 -0.046358  0.047073  0.137456  0.466639  0.567002  0.443135  \n",
      "458  1.967450 -0.070130  0.070899 -0.634747 -0.469434  1.362458  1.234379  \n",
      "459  2.066815  0.538307 -0.537544 -1.109364 -0.726388  0.570251 -0.110134  \n",
      "460  2.153488 -0.070488  0.071211  0.111373 -0.168634  0.000457 -0.096122  \n",
      "\n",
      "[461 rows x 5507 columns]\n"
     ]
    }
   ],
   "source": [
    "##############Unir todos los archivos .tar#########################################\n",
    "\n",
    "def extraer_csv_de_tar(archivo_tar, nombre_csv, directorio_destino):\n",
    "    with tarfile.open(archivo_tar, 'r') as tar:\n",
    "        miembro = tar.getmember(nombre_csv)\n",
    "        tar.extract(miembro, path=directorio_destino)\n",
    "        return os.path.join(directorio_destino, nombre_csv)\n",
    "\n",
    "# Nombre del archivo CSV a extraer (igual en todos los .tar)\n",
    "nombre_csv = 'Feature_normalization_training.csv'\n",
    "\n",
    "# Directorio donde se encuentran los archivos .tar\n",
    "directorio_base = 'Secuencias_neg'\n",
    "\n",
    "# Directorio de destino\n",
    "directorio_destino = 'mi_dataset'\n",
    "\n",
    "# Obtener lista de archivos .tar en el directorio\n",
    "archivos_tar = [f for f in os.listdir(directorio_base) if f.endswith('.tar')]\n",
    "\n",
    "# Crear un DataFrame vacío\n",
    "df_final = pd.DataFrame()\n",
    "\n",
    "# Iterar sobre los archivos .tar\n",
    "for archivo_tar in archivos_tar:\n",
    "    ruta_completa_tar = os.path.join(directorio_base, archivo_tar)\n",
    "    ruta_csv_extraido = extraer_csv_de_tar(ruta_completa_tar, nombre_csv, directorio_destino)\n",
    "    \n",
    "    # Leer el CSV y eliminar la primera columna\n",
    "    df_temporal = pd.read_csv(ruta_csv_extraido)\n",
    "    df_temporal = df_temporal.iloc[:, 1:]  # Eliminar la primera columna\n",
    "    \n",
    "    # Concatenar al DataFrame final\n",
    "    df_final = pd.concat([df_final, df_temporal], ignore_index=True, axis=1)\n",
    "\n",
    "# Ahora `df_final` contiene todos los datos concatenados\n",
    "df_final.insert(0, 'label', 0)\n",
    "print(df_final)\n",
    "df_final.to_csv('SecuenciasConcatenadas_negativos.csv', index=False)\n"
   ]
  },
  {
   "cell_type": "code",
   "execution_count": 35,
   "id": "2e7749b2-f5fc-419c-b268-51599b389e6f",
   "metadata": {
    "tags": []
   },
   "outputs": [
    {
     "ename": "SyntaxError",
     "evalue": "invalid syntax. Perhaps you forgot a comma? (2482118717.py, line 1)",
     "output_type": "error",
     "traceback": [
      "\u001b[1;36m  Cell \u001b[1;32mIn[35], line 1\u001b[1;36m\u001b[0m\n\u001b[1;33m    [455 rows x 5507 columns]\u001b[0m\n\u001b[1;37m     ^\u001b[0m\n\u001b[1;31mSyntaxError\u001b[0m\u001b[1;31m:\u001b[0m invalid syntax. Perhaps you forgot a comma?\n"
     ]
    }
   ],
   "source": [
    "[455 rows x 5507 columns]\n",
    "461 rows x 5507 columns"
   ]
  },
  {
   "cell_type": "code",
   "execution_count": null,
   "id": "741d1aba-6240-445c-aa28-37dd0fe92b63",
   "metadata": {},
   "outputs": [],
   "source": []
  }
 ],
 "metadata": {
  "kernelspec": {
   "display_name": "Python 3 (ipykernel)",
   "language": "python",
   "name": "python3"
  },
  "language_info": {
   "codemirror_mode": {
    "name": "ipython",
    "version": 3
   },
   "file_extension": ".py",
   "mimetype": "text/x-python",
   "name": "python",
   "nbconvert_exporter": "python",
   "pygments_lexer": "ipython3",
   "version": "3.11.5"
  }
 },
 "nbformat": 4,
 "nbformat_minor": 5
}
